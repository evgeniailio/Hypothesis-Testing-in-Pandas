{
 "cells": [
  {
   "cell_type": "code",
   "execution_count": 1,
   "id": "national-driving",
   "metadata": {},
   "outputs": [],
   "source": [
    "import pandas as pd"
   ]
  },
  {
   "cell_type": "markdown",
   "id": "explicit-polyester",
   "metadata": {},
   "source": [
    "We want to test whether a race pay gap exists in a certain company . We have a sample of 174 employees, with data such as name, age etc. We are going to test if there is a significant difference in salaries based on their race. We divide the data into two samples, white and non white employees,which are independent with an unknown variance and assumed equal. We will use a t hypothesis test for the mean salary."
   ]
  },
  {
   "cell_type": "code",
   "execution_count": null,
   "id": "metallic-motel",
   "metadata": {},
   "outputs": [],
   "source": [
    "##FIRST WAY"
   ]
  },
  {
   "cell_type": "markdown",
   "id": "underlying-sleeve",
   "metadata": {},
   "source": [
    "Ho: w_mean - nw_mean=0\n",
    "H1: w_mean-nw_mean!=0"
   ]
  },
  {
   "cell_type": "code",
   "execution_count": 2,
   "id": "tracked-speaker",
   "metadata": {},
   "outputs": [
    {
     "data": {
      "text/plain": [
       "(174, 10)"
      ]
     },
     "execution_count": 2,
     "metadata": {},
     "output_type": "execute_result"
    }
   ],
   "source": [
    "df = pd.read_excel('Data.xlsx',sheet_name='Data')\n",
    "df.shape"
   ]
  },
  {
   "cell_type": "code",
   "execution_count": 3,
   "id": "arbitrary-cocktail",
   "metadata": {},
   "outputs": [
    {
     "data": {
      "text/html": [
       "<div>\n",
       "<style scoped>\n",
       "    .dataframe tbody tr th:only-of-type {\n",
       "        vertical-align: middle;\n",
       "    }\n",
       "\n",
       "    .dataframe tbody tr th {\n",
       "        vertical-align: top;\n",
       "    }\n",
       "\n",
       "    .dataframe thead th {\n",
       "        text-align: right;\n",
       "    }\n",
       "</style>\n",
       "<table border=\"1\" class=\"dataframe\">\n",
       "  <thead>\n",
       "    <tr style=\"text-align: right;\">\n",
       "      <th></th>\n",
       "      <th>Surname</th>\n",
       "      <th>Name</th>\n",
       "      <th>Age</th>\n",
       "      <th>Gender</th>\n",
       "      <th>Country</th>\n",
       "      <th>Ethnicity</th>\n",
       "      <th>Start_date</th>\n",
       "      <th>Department</th>\n",
       "      <th>Position</th>\n",
       "      <th>Salary</th>\n",
       "    </tr>\n",
       "  </thead>\n",
       "  <tbody>\n",
       "    <tr>\n",
       "      <th>0</th>\n",
       "      <td>Sweetwater</td>\n",
       "      <td>Alex</td>\n",
       "      <td>51</td>\n",
       "      <td>Male</td>\n",
       "      <td>United States</td>\n",
       "      <td>White</td>\n",
       "      <td>2011-08-15</td>\n",
       "      <td>Software Engineering</td>\n",
       "      <td>Software Engineering Manager</td>\n",
       "      <td>56160.0</td>\n",
       "    </tr>\n",
       "    <tr>\n",
       "      <th>1</th>\n",
       "      <td>Carabbio</td>\n",
       "      <td>Judith</td>\n",
       "      <td>30</td>\n",
       "      <td>Female</td>\n",
       "      <td>United States</td>\n",
       "      <td>White</td>\n",
       "      <td>2013-11-11</td>\n",
       "      <td>Software Engineering</td>\n",
       "      <td>Software Engineer</td>\n",
       "      <td>116480.0</td>\n",
       "    </tr>\n",
       "    <tr>\n",
       "      <th>2</th>\n",
       "      <td>Saada</td>\n",
       "      <td>Adell</td>\n",
       "      <td>31</td>\n",
       "      <td>Female</td>\n",
       "      <td>United States</td>\n",
       "      <td>White</td>\n",
       "      <td>2012-11-05</td>\n",
       "      <td>Software Engineering</td>\n",
       "      <td>Software Engineer</td>\n",
       "      <td>102440.0</td>\n",
       "    </tr>\n",
       "    <tr>\n",
       "      <th>3</th>\n",
       "      <td>Szabo</td>\n",
       "      <td>Andrew</td>\n",
       "      <td>34</td>\n",
       "      <td>Male</td>\n",
       "      <td>United States</td>\n",
       "      <td>White</td>\n",
       "      <td>2014-07-07</td>\n",
       "      <td>Software Engineering</td>\n",
       "      <td>Software Engineer</td>\n",
       "      <td>99840.0</td>\n",
       "    </tr>\n",
       "    <tr>\n",
       "      <th>4</th>\n",
       "      <td>Andreola</td>\n",
       "      <td>Colby</td>\n",
       "      <td>38</td>\n",
       "      <td>Female</td>\n",
       "      <td>United States</td>\n",
       "      <td>White</td>\n",
       "      <td>2014-11-10</td>\n",
       "      <td>Software Engineering</td>\n",
       "      <td>Software Engineer</td>\n",
       "      <td>99008.0</td>\n",
       "    </tr>\n",
       "  </tbody>\n",
       "</table>\n",
       "</div>"
      ],
      "text/plain": [
       "      Surname    Name  Age  Gender        Country Ethnicity Start_date  \\\n",
       "0  Sweetwater    Alex   51    Male  United States     White 2011-08-15   \n",
       "1    Carabbio  Judith   30  Female  United States     White 2013-11-11   \n",
       "2       Saada   Adell   31  Female  United States     White 2012-11-05   \n",
       "3       Szabo  Andrew   34    Male  United States     White 2014-07-07   \n",
       "4    Andreola   Colby   38  Female  United States     White 2014-11-10   \n",
       "\n",
       "                  Department                      Position    Salary  \n",
       "0  Software Engineering       Software Engineering Manager   56160.0  \n",
       "1       Software Engineering             Software Engineer  116480.0  \n",
       "2       Software Engineering             Software Engineer  102440.0  \n",
       "3       Software Engineering             Software Engineer   99840.0  \n",
       "4       Software Engineering             Software Engineer   99008.0  "
      ]
     },
     "execution_count": 3,
     "metadata": {},
     "output_type": "execute_result"
    }
   ],
   "source": [
    "df.head()"
   ]
  },
  {
   "cell_type": "code",
   "execution_count": 4,
   "id": "large-reporter",
   "metadata": {},
   "outputs": [
    {
     "data": {
      "text/html": [
       "<div>\n",
       "<style scoped>\n",
       "    .dataframe tbody tr th:only-of-type {\n",
       "        vertical-align: middle;\n",
       "    }\n",
       "\n",
       "    .dataframe tbody tr th {\n",
       "        vertical-align: top;\n",
       "    }\n",
       "\n",
       "    .dataframe thead th {\n",
       "        text-align: right;\n",
       "    }\n",
       "</style>\n",
       "<table border=\"1\" class=\"dataframe\">\n",
       "  <thead>\n",
       "    <tr style=\"text-align: right;\">\n",
       "      <th></th>\n",
       "      <th>Ethnicity</th>\n",
       "    </tr>\n",
       "  </thead>\n",
       "  <tbody>\n",
       "    <tr>\n",
       "      <th>White</th>\n",
       "      <td>112</td>\n",
       "    </tr>\n",
       "    <tr>\n",
       "      <th>Black or African American</th>\n",
       "      <td>36</td>\n",
       "    </tr>\n",
       "    <tr>\n",
       "      <th>Asian</th>\n",
       "      <td>15</td>\n",
       "    </tr>\n",
       "    <tr>\n",
       "      <th>Two or more races</th>\n",
       "      <td>9</td>\n",
       "    </tr>\n",
       "    <tr>\n",
       "      <th>Hispanic</th>\n",
       "      <td>2</td>\n",
       "    </tr>\n",
       "  </tbody>\n",
       "</table>\n",
       "</div>"
      ],
      "text/plain": [
       "                           Ethnicity\n",
       "White                            112\n",
       "Black or African American         36\n",
       "Asian                             15\n",
       "Two or more races                  9\n",
       "Hispanic                           2"
      ]
     },
     "execution_count": 4,
     "metadata": {},
     "output_type": "execute_result"
    }
   ],
   "source": [
    "df['Ethnicity'].value_counts().to_frame()\n"
   ]
  },
  {
   "cell_type": "code",
   "execution_count": 5,
   "id": "western-state",
   "metadata": {},
   "outputs": [],
   "source": [
    "list=['Black or African American','Asian','Two or more races','Hispanic']"
   ]
  },
  {
   "cell_type": "code",
   "execution_count": 6,
   "id": "cutting-orientation",
   "metadata": {},
   "outputs": [],
   "source": [
    "for i in list:                                #We are using a for loop to group all the other races,for easier understanding.\n",
    "    df.replace(i,'Non White',inplace=True)"
   ]
  },
  {
   "cell_type": "code",
   "execution_count": 7,
   "id": "overhead-share",
   "metadata": {},
   "outputs": [
    {
     "data": {
      "text/plain": [
       "White        112\n",
       "Non White     62\n",
       "Name: Ethnicity, dtype: int64"
      ]
     },
     "execution_count": 7,
     "metadata": {},
     "output_type": "execute_result"
    }
   ],
   "source": [
    "df['Ethnicity'].value_counts()"
   ]
  },
  {
   "cell_type": "code",
   "execution_count": 10,
   "id": "female-netscape",
   "metadata": {},
   "outputs": [],
   "source": [
    "categories=df.groupby('Ethnicity')"
   ]
  },
  {
   "cell_type": "code",
   "execution_count": 11,
   "id": "structured-class",
   "metadata": {},
   "outputs": [
    {
     "data": {
      "text/plain": [
       "Ethnicity\n",
       "Non White     62\n",
       "White        112\n",
       "dtype: int64"
      ]
     },
     "execution_count": 11,
     "metadata": {},
     "output_type": "execute_result"
    }
   ],
   "source": [
    "categories.size()"
   ]
  },
  {
   "cell_type": "code",
   "execution_count": 12,
   "id": "lyric-hotel",
   "metadata": {},
   "outputs": [
    {
     "data": {
      "text/plain": [
       "2"
      ]
     },
     "execution_count": 12,
     "metadata": {},
     "output_type": "execute_result"
    }
   ],
   "source": [
    "len(categories)"
   ]
  },
  {
   "cell_type": "code",
   "execution_count": 13,
   "id": "alternate-commerce",
   "metadata": {},
   "outputs": [],
   "source": [
    "w_sa=categories.get_group('White')\n",
    "nw_sa=categories.get_group('Non White')"
   ]
  },
  {
   "cell_type": "code",
   "execution_count": 14,
   "id": "green-syndrome",
   "metadata": {},
   "outputs": [
    {
     "name": "stdout",
     "output_type": "stream",
     "text": [
      "The mean of the white sample is 67323.1 and the mean of the non white is 70917.26451612904\n"
     ]
    }
   ],
   "source": [
    "#Calculating the two sample means.\n",
    "w_mean=w_sa['Salary'].mean()\n",
    "nw_mean=nw_sa['Salary'].mean()\n",
    "print('The mean of the white sample is',w_mean,'and the mean of the non white is',nw_mean)"
   ]
  },
  {
   "cell_type": "code",
   "execution_count": 15,
   "id": "korean-burke",
   "metadata": {},
   "outputs": [
    {
     "name": "stdout",
     "output_type": "stream",
     "text": [
      "The variance of the white sample is 1136728018.0252259 and the variance of the non white is 1225049916.297409\n"
     ]
    }
   ],
   "source": [
    "#Calculating the two samples' variances.\n",
    "w_var=w_sa['Salary'].std()*w_sa['Salary'].std()\n",
    "nw_var=nw_sa['Salary'].std()*nw_sa['Salary'].std()\n",
    "print('The variance of the white sample is',w_var,'and the variance of the non white is',nw_var)"
   ]
  },
  {
   "cell_type": "code",
   "execution_count": 16,
   "id": "victorian-desktop",
   "metadata": {},
   "outputs": [
    {
     "name": "stdout",
     "output_type": "stream",
     "text": [
      "Pooled variance is 1168051481.9473374\n"
     ]
    }
   ],
   "source": [
    "#Then we calculate the pooled variance.\n",
    "pool=((len(w_sa.index)-1)*w_var+(len(nw_sa.index)-1)*nw_var)/(len(w_sa.index)+len(nw_sa.index)-2)\n",
    "print('Pooled variance is',pool)"
   ]
  },
  {
   "cell_type": "code",
   "execution_count": 17,
   "id": "married-rebate",
   "metadata": {},
   "outputs": [
    {
     "name": "stdout",
     "output_type": "stream",
     "text": [
      "standard error is 5410.04354143515\n"
     ]
    }
   ],
   "source": [
    "#Now we calculate the standard error.\n",
    "st_error=((pool/len(w_sa.index))+(pool/len(nw_sa.index)))**(1/2)\n",
    "print('standard error is',st_error)"
   ]
  },
  {
   "cell_type": "code",
   "execution_count": 18,
   "id": "velvet-frontier",
   "metadata": {},
   "outputs": [
    {
     "name": "stdout",
     "output_type": "stream",
     "text": [
      "-0.6643503862032862\n"
     ]
    }
   ],
   "source": [
    "#Now we are ready to calculate tha T-score.\n",
    "T=(w_mean-nw_mean)/st_error\n",
    "print(T)"
   ]
  },
  {
   "cell_type": "code",
   "execution_count": 19,
   "id": "stuck-atlantic",
   "metadata": {},
   "outputs": [],
   "source": [
    "#From an online calculator we can see that the p-value for a T-score of -0.66,112+62-2 degrees of \n",
    "#freedon and a two sided test is:\n",
    "p_value=0.51\n"
   ]
  },
  {
   "cell_type": "markdown",
   "id": "incomplete-effects",
   "metadata": {},
   "source": [
    "Since p>a , which a is the level of significance , the result is insignificant and there is no sign that there is a pay discrimination."
   ]
  },
  {
   "cell_type": "code",
   "execution_count": 20,
   "id": "offshore-papua",
   "metadata": {},
   "outputs": [],
   "source": [
    "##SECOND WAY\n",
    "from scipy import stats"
   ]
  },
  {
   "cell_type": "code",
   "execution_count": 21,
   "id": "enabling-church",
   "metadata": {},
   "outputs": [
    {
     "name": "stdout",
     "output_type": "stream",
     "text": [
      "Test statistic is -0.664350\n",
      "p-value for two tailed test is 0.507356\n"
     ]
    }
   ],
   "source": [
    "t_value,p_value=stats.ttest_ind(w_sa['Salary'],nw_sa['Salary'])\n",
    "\n",
    "print('Test statistic is %f'%float(\"{:.6f}\".format(t_value)))\n",
    "\n",
    "print('p-value for two tailed test is %f'%p_value)\n",
    "\n",
    "alpha = 0.05"
   ]
  },
  {
   "cell_type": "markdown",
   "id": "numeric-annotation",
   "metadata": {},
   "source": [
    "Since p>a , which a is the level of significance , \n",
    "the result is insignificant and there is no sign that there is a pay discrimination."
   ]
  }
 ],
 "metadata": {
  "kernelspec": {
   "display_name": "Python 3",
   "language": "python",
   "name": "python3"
  },
  "language_info": {
   "codemirror_mode": {
    "name": "ipython",
    "version": 3
   },
   "file_extension": ".py",
   "mimetype": "text/x-python",
   "name": "python",
   "nbconvert_exporter": "python",
   "pygments_lexer": "ipython3",
   "version": "3.9.2"
  }
 },
 "nbformat": 4,
 "nbformat_minor": 5
}
